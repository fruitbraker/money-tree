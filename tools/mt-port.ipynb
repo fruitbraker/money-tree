{
 "cells": [
  {
   "cell_type": "markdown",
   "id": "moved-approval",
   "metadata": {},
   "source": [
    "# Moneytree port for expenses (v1.1)\n",
    "\n",
    "## Prerequisites\n",
    "The input file must be tab separated (tsv). Columns must be in the following order\n",
    "TransactionDate Vendor TransactionAmount ExpenseCategory Notes(optional). No column headers.\n",
    "\n",
    "### Set file name"
   ]
  },
  {
   "cell_type": "code",
   "execution_count": null,
   "id": "higher-placement",
   "metadata": {},
   "outputs": [],
   "source": [
    "file=\"take2\""
   ]
  },
  {
   "cell_type": "markdown",
   "id": "applicable-worcester",
   "metadata": {
    "tags": []
   },
   "source": [
    "### Remove carriage return character in expenses. This is from Excel. Run this to be safe"
   ]
  },
  {
   "cell_type": "code",
   "execution_count": null,
   "id": "stainless-portable",
   "metadata": {},
   "outputs": [],
   "source": [
    "sed -i 's/\\r$//' \"$file\"\n",
    "echo \"done\""
   ]
  },
  {
   "cell_type": "markdown",
   "id": "cross-category",
   "metadata": {},
   "source": [
    "### Verify file is tab separated"
   ]
  },
  {
   "cell_type": "code",
   "execution_count": null,
   "id": "pediatric-rebel",
   "metadata": {},
   "outputs": [],
   "source": [
    "head -n 38 \"$file\""
   ]
  },
  {
   "cell_type": "markdown",
   "id": "skilled-aerospace",
   "metadata": {},
   "source": [
    "### OPTIONAL: if you copied the filed over from a Windows environment into a linux (jupyter) environment, you may convert the file to UTF8 so you can open it on jupyter."
   ]
  },
  {
   "cell_type": "code",
   "execution_count": null,
   "id": "abstract-compilation",
   "metadata": {},
   "outputs": [],
   "source": [
    "iconv -f iso-8859-1 -t iso-8859-1 \"$file\" -o \"$file\""
   ]
  },
  {
   "cell_type": "markdown",
   "id": "national-summit",
   "metadata": {},
   "source": [
    "### Set host. Usually local IP to communicate with server"
   ]
  },
  {
   "cell_type": "code",
   "execution_count": null,
   "id": "ordered-colleague",
   "metadata": {},
   "outputs": [],
   "source": [
    "host=\"192.168.1.76\""
   ]
  },
  {
   "cell_type": "markdown",
   "id": "stunning-denmark",
   "metadata": {},
   "source": [
    "### Check server is running\n",
    "Expected output: \"Money tree is healthy\""
   ]
  },
  {
   "cell_type": "code",
   "execution_count": null,
   "id": "manual-agreement",
   "metadata": {},
   "outputs": [],
   "source": [
    "curl \"http://$host:9000/health\""
   ]
  },
  {
   "cell_type": "markdown",
   "id": "enhanced-depression",
   "metadata": {},
   "source": [
    "### Collect unique vendors"
   ]
  },
  {
   "cell_type": "code",
   "execution_count": null,
   "id": "motivated-search",
   "metadata": {},
   "outputs": [],
   "source": [
    "gawk -F \"\\t\" '{ gsub(/^[ ]+|[ ]+$/, \"\", $2); if(seen[$2]++ == 0) print $2 }' \"$file\" > vendors\n",
    "echo \"done\""
   ]
  },
  {
   "cell_type": "markdown",
   "id": "union-memphis",
   "metadata": {},
   "source": [
    "### Construct post-vendors for CURL payload to add them to the database"
   ]
  },
  {
   "cell_type": "code",
   "execution_count": null,
   "id": "ignored-crawford",
   "metadata": {},
   "outputs": [],
   "source": [
    "awk -F \"\\t\" '{ printf(\"{ \\\"name\\\": \\\"%s\\\" }\\n\", $1) }' vendors > post-vendors\n",
    "echo \"done\""
   ]
  },
  {
   "cell_type": "markdown",
   "id": "loaded-token",
   "metadata": {},
   "source": [
    "### Confirm first couple lines look normal\n",
    "Expected: { \"name\": \"vendorName\" }"
   ]
  },
  {
   "cell_type": "code",
   "execution_count": null,
   "id": "flexible-engineering",
   "metadata": {},
   "outputs": [],
   "source": [
    "head -n 3 post-vendors"
   ]
  },
  {
   "cell_type": "markdown",
   "id": "electric-assignment",
   "metadata": {},
   "source": [
    "### Make a POST request for each json to add Vendors to database and collect the responses for the UUIDs as vendors-full"
   ]
  },
  {
   "cell_type": "code",
   "execution_count": null,
   "id": "fourth-doctrine",
   "metadata": {},
   "outputs": [],
   "source": [
    "while IFS= read -r line\n",
    "do\n",
    "   curl -w '\\n' -H \"Content-Type: application/json\" -sX POST -d \"$line\" \"http://$host:9000/vendor\" >> vendors-full\n",
    "done < post-vendors\n",
    "echo \"done\""
   ]
  },
  {
   "cell_type": "markdown",
   "id": "republican-writing",
   "metadata": {},
   "source": [
    "### Verify the first couple response jsons look normal"
   ]
  },
  {
   "cell_type": "code",
   "execution_count": null,
   "id": "expired-counter",
   "metadata": {},
   "outputs": [],
   "source": [
    "head -n 3 vendors-full "
   ]
  },
  {
   "cell_type": "markdown",
   "id": "hybrid-break",
   "metadata": {},
   "source": [
    "### Construct Vendor's key value storage"
   ]
  },
  {
   "cell_type": "code",
   "execution_count": null,
   "id": "danish-burst",
   "metadata": {},
   "outputs": [],
   "source": [
    "declare -A vendorsKv\n",
    "\n",
    "while IFS= read -r line\n",
    "do\n",
    "    id=$(echo \"$line\" | jq -r .id)\n",
    "    name=$(echo \"$line\" | jq -r .name)\n",
    "    vendorsKv[\"$name\"]=\"$id\"\n",
    "done < vendors-full\n",
    "echo \"done\""
   ]
  },
  {
   "cell_type": "markdown",
   "id": "satellite-papua",
   "metadata": {},
   "source": [
    "### Collect unique expense category"
   ]
  },
  {
   "cell_type": "code",
   "execution_count": null,
   "id": "broadband-logistics",
   "metadata": {},
   "outputs": [],
   "source": [
    "awk -F \"\\t\" '{ gsub(/^[ ]+|[ ]+$/, \"\", $4); if(seen[$4]++ == 0) print $4 }' \"$file\" > expense-category\n",
    "echo \"done\""
   ]
  },
  {
   "cell_type": "markdown",
   "id": "afraid-pearl",
   "metadata": {},
   "source": [
    "### Construct post-expense-category for CURL payload to add them to the database"
   ]
  },
  {
   "cell_type": "code",
   "execution_count": null,
   "id": "early-affiliation",
   "metadata": {},
   "outputs": [],
   "source": [
    "awk -F \"\\t\" '{ printf(\"{ \\\"name\\\": \\\"%s\\\", \\\"targetAmount\\\": 0.00 }\\n\", $1) }' expense-category > post-expense-category\n",
    "echo \"done\""
   ]
  },
  {
   "cell_type": "markdown",
   "id": "designing-arizona",
   "metadata": {},
   "source": [
    "### Confirm first couple lines look normal\n",
    "Expected: { \"name\": \"categoryName\", \"targetAmount\": 0.00 }"
   ]
  },
  {
   "cell_type": "code",
   "execution_count": null,
   "id": "crude-private",
   "metadata": {},
   "outputs": [],
   "source": [
    "head -n 3 post-expense-category"
   ]
  },
  {
   "cell_type": "markdown",
   "id": "worthy-fundamental",
   "metadata": {},
   "source": [
    "### Make a POST request for each json to add Expense Category to database and collect the responses for the UUIDs as expense-category-full"
   ]
  },
  {
   "cell_type": "code",
   "execution_count": null,
   "id": "balanced-swing",
   "metadata": {},
   "outputs": [],
   "source": [
    "while IFS= read -r line\n",
    "do\n",
    "   curl -w '\\n' -H \"Content-Type: application/json\" -sX POST -d \"$line\" \"http://$host:9000/category/expense\" >> expense-category-full\n",
    "done < post-expense-category\n",
    "echo \"done\""
   ]
  },
  {
   "cell_type": "markdown",
   "id": "celtic-polymer",
   "metadata": {},
   "source": [
    "### Verify the first couple response jsons look normal"
   ]
  },
  {
   "cell_type": "code",
   "execution_count": null,
   "id": "incorporate-identification",
   "metadata": {},
   "outputs": [],
   "source": [
    "head -n 3 expense-category-full"
   ]
  },
  {
   "cell_type": "markdown",
   "id": "changing-movie",
   "metadata": {},
   "source": [
    "### Construct Expense Categpory's key value storage"
   ]
  },
  {
   "cell_type": "code",
   "execution_count": null,
   "id": "southwest-rapid",
   "metadata": {},
   "outputs": [],
   "source": [
    "declare -A expenseCategoryKv\n",
    "\n",
    "while IFS= read -r line\n",
    "do\n",
    "    id=$(echo \"$line\" | jq -r .id)\n",
    "    name=$(echo \"$line\" | jq -r .name)\n",
    "    expenseCategoryKv[\"$name\"]=\"$id\"\n",
    "done < expense-category-full\n",
    "echo \"done\""
   ]
  },
  {
   "cell_type": "markdown",
   "id": "undefined-violation",
   "metadata": {},
   "source": [
    "# IMPORTANT: If the transaction is NOT in ISO-8601 format, ie yyyy-mm-dd, run the next cell. OTHERWISE SKIP TO NEXT STEP"
   ]
  },
  {
   "cell_type": "code",
   "execution_count": null,
   "id": "fabulous-cooperative",
   "metadata": {},
   "outputs": [],
   "source": [
    "awk -F \"\\t\" '{ split($1,date,\"-\"); printf(\"%s-%s-%s\\t%s\\t%s\\t%s\\t%s\\n\",date[3], date[1], date[2],$2,$3,$4,$5) }' \"$file\" > expenses-iso-dated\n",
    "echo \"done\"\n",
    "file=\"expenses-iso-dated\""
   ]
  },
  {
   "cell_type": "markdown",
   "id": "ranging-daniel",
   "metadata": {},
   "source": [
    "### Generate POST json payload for expenses"
   ]
  },
  {
   "cell_type": "code",
   "execution_count": null,
   "id": "stuffed-volume",
   "metadata": {},
   "outputs": [],
   "source": [
    "while IFS=$'\\t' read -r date vendor amount category notes\n",
    "do\n",
    "    echo \"{ \\\"transactionDate\\\": \\\"$date\\\", \\\"transactionAmount\\\": $amount, \\\"vendor\\\": \\\"${vendorsKv[\"$vendor\"]}\\\", \\\"expenseCategory\\\": \\\"${expenseCategoryKv[\"$category\"]}\\\", \\\"notes\\\": \\\"$notes\\\", \\\"hide\\\": false }\" >> post-expenses\n",
    "done < \"$file\"\n",
    "echo \"done\""
   ]
  },
  {
   "cell_type": "markdown",
   "id": "varied-boutique",
   "metadata": {},
   "source": [
    "### Verify payload looks normal"
   ]
  },
  {
   "cell_type": "code",
   "execution_count": null,
   "id": "anticipated-indiana",
   "metadata": {},
   "outputs": [],
   "source": [
    "head -n 3 post-expenses"
   ]
  },
  {
   "cell_type": "markdown",
   "id": "municipal-nickname",
   "metadata": {},
   "source": [
    "### Insert the expenses"
   ]
  },
  {
   "cell_type": "code",
   "execution_count": null,
   "id": "simplified-repeat",
   "metadata": {},
   "outputs": [],
   "source": [
    "while IFS= read -r line\n",
    "do\n",
    "   curl -H \"Content-Type: application/json\" -o /dev/null -sX POST -d \"$line\" \"http://$host:9000/expense\" \n",
    "done < post-expenses\n",
    "echo \"done\""
   ]
  },
  {
   "cell_type": "markdown",
   "id": "revised-representative",
   "metadata": {},
   "source": [
    "# DONE!"
   ]
  }
 ],
 "metadata": {
  "kernelspec": {
   "display_name": "Bash",
   "language": "bash",
   "name": "bash"
  },
  "language_info": {
   "codemirror_mode": "shell",
   "file_extension": ".sh",
   "mimetype": "text/x-sh",
   "name": "bash"
  }
 },
 "nbformat": 4,
 "nbformat_minor": 5
}
