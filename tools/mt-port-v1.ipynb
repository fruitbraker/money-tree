{
 "cells": [
  {
   "cell_type": "markdown",
   "id": "organic-creation",
   "metadata": {},
   "source": [
    "# Moneytree port for expenses (v1)\n",
    "\n",
    "## Prerequisites\n",
    "The input file must be tab separated (tsv). Columns must be in the following order\n",
    "TransactionDate Vendor TransactionAmount ExpenseCategory Notes(optional). No column headers.\n",
    "\n",
    "### Set file name"
   ]
  },
  {
   "cell_type": "code",
   "execution_count": null,
   "id": "eastern-covering",
   "metadata": {},
   "outputs": [],
   "source": [
    "file=\"expenses\""
   ]
  },
  {
   "cell_type": "markdown",
   "id": "particular-hierarchy",
   "metadata": {
    "tags": []
   },
   "source": [
    "### Remove carriage return character in expenses. This is from Excel. Run this to be safe"
   ]
  },
  {
   "cell_type": "code",
   "execution_count": null,
   "id": "public-herald",
   "metadata": {},
   "outputs": [],
   "source": [
    "sed -i 's/\\r$//' expenses\n",
    "echo \"done\""
   ]
  },
  {
   "cell_type": "markdown",
   "id": "opening-chest",
   "metadata": {},
   "source": [
    "### Verify file is tab separated"
   ]
  },
  {
   "cell_type": "code",
   "execution_count": null,
   "id": "enclosed-active",
   "metadata": {},
   "outputs": [],
   "source": [
    "head -n 5 \"$file\""
   ]
  },
  {
   "cell_type": "markdown",
   "id": "lightweight-roads",
   "metadata": {},
   "source": [
    "### OPTIONAL: if you copied the filed over from a Windows environment into a linux (jupyter) environment, you may convert the file to UTF8 so you can open it on jupyter."
   ]
  },
  {
   "cell_type": "code",
   "execution_count": null,
   "id": "earlier-album",
   "metadata": {},
   "outputs": [],
   "source": [
    "iconv -f iso-8859-1 -t UTF-8 \"$file\" -o \"$file\""
   ]
  },
  {
   "cell_type": "markdown",
   "id": "different-samba",
   "metadata": {},
   "source": [
    "### Set host. Usually local IP to communicate with server"
   ]
  },
  {
   "cell_type": "code",
   "execution_count": null,
   "id": "historical-capture",
   "metadata": {},
   "outputs": [],
   "source": [
    "host=\"\""
   ]
  },
  {
   "cell_type": "markdown",
   "id": "damaged-scratch",
   "metadata": {},
   "source": [
    "### Check server is running\n",
    "Expected output: \"Money tree is healthy\""
   ]
  },
  {
   "cell_type": "code",
   "execution_count": null,
   "id": "discrete-madness",
   "metadata": {},
   "outputs": [],
   "source": [
    "curl \"http://$host:9000/health\""
   ]
  },
  {
   "cell_type": "markdown",
   "id": "fluid-fleece",
   "metadata": {},
   "source": [
    "### Collect unique vendors"
   ]
  },
  {
   "cell_type": "code",
   "execution_count": null,
   "id": "muslim-halloween",
   "metadata": {},
   "outputs": [],
   "source": [
    "awk -F \"\\t\" ' !seen[$2]++ { print $2 } ' expenses >> vendors\n",
    "echo \"done\""
   ]
  },
  {
   "cell_type": "markdown",
   "id": "native-ethernet",
   "metadata": {},
   "source": [
    "### Construct post-vendors for CURL payload to add them to the database"
   ]
  },
  {
   "cell_type": "code",
   "execution_count": null,
   "id": "bound-promise",
   "metadata": {},
   "outputs": [],
   "source": [
    "awk -F \"\\t\" '{ printf(\"{ \\\"name\\\": \\\"%s\\\" }\\n\", $1) }' vendors >> post-vendors\n",
    "echo \"done\""
   ]
  },
  {
   "cell_type": "markdown",
   "id": "trained-excess",
   "metadata": {},
   "source": [
    "### Confirm first couple lines look normal\n",
    "Expected: { \"name\": \"vendorName\" }"
   ]
  },
  {
   "cell_type": "code",
   "execution_count": null,
   "id": "reported-buffer",
   "metadata": {},
   "outputs": [],
   "source": [
    "head -n 3 post-vendors"
   ]
  },
  {
   "cell_type": "markdown",
   "id": "julian-relationship",
   "metadata": {},
   "source": [
    "### Make a POST request for each json to add Vendors to database and collect the responses for the UUIDs as vendors-full"
   ]
  },
  {
   "cell_type": "code",
   "execution_count": null,
   "id": "original-sweet",
   "metadata": {},
   "outputs": [],
   "source": [
    "while IFS= read -r line\n",
    "do\n",
    "   curl -w '\\n' -H \"Content-Type: application/json\" -sX POST -d \"$line\" \"http://$host:9000/vendor\" >> vendors-full\n",
    "done < post-vendors\n",
    "echo \"done\""
   ]
  },
  {
   "cell_type": "markdown",
   "id": "departmental-guidance",
   "metadata": {},
   "source": [
    "### Verify the first couple response jsons look normal"
   ]
  },
  {
   "cell_type": "code",
   "execution_count": null,
   "id": "crude-maker",
   "metadata": {},
   "outputs": [],
   "source": [
    "head -n 3 vendors-full "
   ]
  },
  {
   "cell_type": "markdown",
   "id": "sudden-regard",
   "metadata": {},
   "source": [
    "### Construct Vendor's key value storage"
   ]
  },
  {
   "cell_type": "code",
   "execution_count": null,
   "id": "pressed-million",
   "metadata": {},
   "outputs": [],
   "source": [
    "declare -A vendorsKv\n",
    "\n",
    "while IFS= read -r line\n",
    "do\n",
    "    id=$(echo \"$line\" | jq -r .id)\n",
    "    name=$(echo \"$line\" | jq -r .name)\n",
    "    vendorsKv[\"$name\"]=\"$id\"\n",
    "done < vendors-full\n",
    "echo \"done\""
   ]
  },
  {
   "cell_type": "markdown",
   "id": "equivalent-azerbaijan",
   "metadata": {},
   "source": [
    "### Collect unique expense category"
   ]
  },
  {
   "cell_type": "code",
   "execution_count": null,
   "id": "abandoned-router",
   "metadata": {},
   "outputs": [],
   "source": [
    "awk -F \"\\t\" ' !seen[$4]++ { print $4 } ' expenses >> expense-category\n",
    "echo \"done\""
   ]
  },
  {
   "cell_type": "markdown",
   "id": "casual-plant",
   "metadata": {},
   "source": [
    "### Construct post-expense-category for CURL payload to add them to the database"
   ]
  },
  {
   "cell_type": "code",
   "execution_count": null,
   "id": "functional-madagascar",
   "metadata": {},
   "outputs": [],
   "source": [
    "awk -F \"\\t\" '{ printf(\"{ \\\"name\\\": \\\"%s\\\", \\\"targetAmount\\\": 0.00 }\\n\", $1) }' expense-category >> post-expense-category\n",
    "echo \"done\""
   ]
  },
  {
   "cell_type": "markdown",
   "id": "reliable-friday",
   "metadata": {},
   "source": [
    "### Confirm first couple lines look normal\n",
    "Expected: { \"name\": \"categoryName\", \"targetAmount\": 0.00 }"
   ]
  },
  {
   "cell_type": "code",
   "execution_count": null,
   "id": "exposed-novel",
   "metadata": {},
   "outputs": [],
   "source": [
    "head -n 3 post-expense-category"
   ]
  },
  {
   "cell_type": "markdown",
   "id": "immune-think",
   "metadata": {},
   "source": [
    "### Make a POST request for each json to add Expense Category to database and collect the responses for the UUIDs as expense-category-full"
   ]
  },
  {
   "cell_type": "code",
   "execution_count": null,
   "id": "baking-truth",
   "metadata": {},
   "outputs": [],
   "source": [
    "while IFS= read -r line\n",
    "do\n",
    "   curl -w '\\n' -H \"Content-Type: application/json\" -sX POST -d \"$line\" \"http://$host:9000/category/expense\" >> expense-category-full\n",
    "done < post-expense-category\n",
    "echo \"done\""
   ]
  },
  {
   "cell_type": "markdown",
   "id": "swedish-class",
   "metadata": {},
   "source": [
    "### Verify the first couple response jsons look normal"
   ]
  },
  {
   "cell_type": "code",
   "execution_count": null,
   "id": "supported-preservation",
   "metadata": {},
   "outputs": [],
   "source": [
    "head -n 3 expense-category-full"
   ]
  },
  {
   "cell_type": "markdown",
   "id": "random-botswana",
   "metadata": {},
   "source": [
    "### Construct Expense Categpory's key value storage"
   ]
  },
  {
   "cell_type": "code",
   "execution_count": null,
   "id": "cardiac-monroe",
   "metadata": {},
   "outputs": [],
   "source": [
    "declare -A expenseCategoryKv\n",
    "\n",
    "while IFS= read -r line\n",
    "do\n",
    "    id=$(echo \"$line\" | jq -r .id)\n",
    "    name=$(echo \"$line\" | jq -r .name)\n",
    "    expenseCategoryKv[\"$name\"]=\"$id\"\n",
    "done < expense-category-full\n",
    "echo \"done\""
   ]
  },
  {
   "cell_type": "markdown",
   "id": "leading-allah",
   "metadata": {},
   "source": [
    "# IMPORTANT: If the transaction is NOT in ISO-8601 format, ie yyyy-mm-dd, run the next cell. OTHERWISE SKIP TO NEXT STEP"
   ]
  },
  {
   "cell_type": "code",
   "execution_count": null,
   "id": "boolean-broad",
   "metadata": {},
   "outputs": [],
   "source": [
    "awk -F \"\\t\" '{ split($1,date,\"-\"); printf(\"%s-%s-%s\\t%s\\t%s\\t%s\\t%s\\n\",date[3], date[1], date[2],$2,$3,$4,$5) }' expenses >> expenses-iso-dated\n",
    "echo \"done\"\n",
    "file=\"expenses-iso-dated\""
   ]
  },
  {
   "cell_type": "markdown",
   "id": "sticky-software",
   "metadata": {},
   "source": [
    "### Generate POST json payload for expenses"
   ]
  },
  {
   "cell_type": "code",
   "execution_count": null,
   "id": "democratic-coordination",
   "metadata": {},
   "outputs": [],
   "source": [
    "while IFS=$'\\t' read -r date vendor amount category notes\n",
    "do\n",
    "    echo \"{ \\\"transactionDate\\\": \\\"$date\\\", \\\"transactionAmount\\\": $amount, \\\"vendor\\\": \\\"${vendorsKv[\"$vendor\"]}\\\", \\\"expenseCategory\\\": \\\"${expenseCategoryKv[\"$category\"]}\\\", \\\"notes\\\": \\\"$notes\\\", \\\"hide\\\": false }\" >> post-expenses\n",
    "done < \"$file\"\n",
    "echo \"done\""
   ]
  },
  {
   "cell_type": "markdown",
   "id": "frank-eating",
   "metadata": {},
   "source": [
    "### Verify payload looks normal"
   ]
  },
  {
   "cell_type": "code",
   "execution_count": null,
   "id": "similar-banana",
   "metadata": {},
   "outputs": [],
   "source": [
    "head -n 3 post-expenses"
   ]
  },
  {
   "cell_type": "markdown",
   "id": "signed-detective",
   "metadata": {},
   "source": [
    "### Insert the expenses"
   ]
  },
  {
   "cell_type": "code",
   "execution_count": null,
   "id": "copyrighted-faculty",
   "metadata": {},
   "outputs": [],
   "source": [
    "while IFS= read -r line\n",
    "do\n",
    "   curl -H \"Content-Type: application/json\" -o /dev/null -sX POST -d \"$line\" \"http://$host:9000/expense\" \n",
    "done < post-expenses\n",
    "echo \"done\""
   ]
  },
  {
   "cell_type": "markdown",
   "id": "defensive-enzyme",
   "metadata": {},
   "source": [
    "# DONE!"
   ]
  },
  {
   "cell_type": "code",
   "execution_count": null,
   "id": "macro-startup",
   "metadata": {},
   "outputs": [],
   "source": []
  }
 ],
 "metadata": {
  "kernelspec": {
   "display_name": "Bash",
   "language": "bash",
   "name": "bash"
  },
  "language_info": {
   "codemirror_mode": "shell",
   "file_extension": ".sh",
   "mimetype": "text/x-sh",
   "name": "bash"
  }
 },
 "nbformat": 4,
 "nbformat_minor": 5
}
